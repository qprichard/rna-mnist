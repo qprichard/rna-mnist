{
 "cells": [
  {
   "cell_type": "code",
   "execution_count": 6,
   "metadata": {},
   "outputs": [],
   "source": [
    "from __future__ import print_function\n",
    "\n",
    "import keras\n",
    "import numpy as np\n",
    "from keras.datasets import mnist\n",
    "from keras.models import Sequential\n",
    "from keras.layers import Dense, Dropout\n",
    "from keras.optimizers import RMSprop\n",
    "\n",
    "from matplotlib import pyplot as plt"
   ]
  },
  {
   "cell_type": "code",
   "execution_count": 2,
   "metadata": {},
   "outputs": [
    {
     "name": "stdout",
     "output_type": "stream",
     "text": [
      "train data:  42000\n",
      "validation data:  14000\n",
      "test data:  14000\n"
     ]
    }
   ],
   "source": [
    "\"\"\"\n",
    "Variables and dataset\n",
    "\"\"\"\n",
    "\n",
    "batch_size = 128\n",
    "num_classes = 10\n",
    "epochs = 20\n",
    "\n",
    "(x_A, y_A), (x_B, y_B) = mnist.load_data()\n",
    "(dataset_x, dataset_y) = (np.concatenate((x_A, x_B)), np.concatenate((y_A, y_B)))\n",
    "\n",
    "#homogenize types \n",
    "dataset_x = dataset_x.reshape(70000, 784)\n",
    "dataset_x = dataset_x.astype('float32')\n",
    "dataset_x /= 255\n",
    "\n",
    "#make output to categorical\n",
    "dataset_y = keras.utils.to_categorical(dataset_y, num_classes)\n",
    "\n",
    "# We separate the dataset in 60% 20% 20%\n",
    "(x_train, y_train) = (dataset_x[:42000], dataset_y[:42000])\n",
    "(x_test, y_test) = (dataset_x[42000:56000], dataset_y[42000:56000])\n",
    "(x_validate, y_validate) = (dataset_x[56000:70000], dataset_y[56000:72000])\n",
    "\n",
    "print('train data: ', x_train.shape[0])\n",
    "print('validation data: ', x_validate.shape[0])\n",
    "print('test data: ', x_test.shape[0])"
   ]
  },
  {
   "cell_type": "code",
   "execution_count": 3,
   "metadata": {},
   "outputs": [
    {
     "name": "stdout",
     "output_type": "stream",
     "text": [
      "Model: \"sequential_1\"\n",
      "_________________________________________________________________\n",
      "Layer (type)                 Output Shape              Param #   \n",
      "=================================================================\n",
      "dense_1 (Dense)              (None, 512)               401920    \n",
      "_________________________________________________________________\n",
      "dropout_1 (Dropout)          (None, 512)               0         \n",
      "_________________________________________________________________\n",
      "dense_2 (Dense)              (None, 512)               262656    \n",
      "_________________________________________________________________\n",
      "dropout_2 (Dropout)          (None, 512)               0         \n",
      "_________________________________________________________________\n",
      "dense_3 (Dense)              (None, 10)                5130      \n",
      "=================================================================\n",
      "Total params: 669,706\n",
      "Trainable params: 669,706\n",
      "Non-trainable params: 0\n",
      "_________________________________________________________________\n",
      "Train on 42000 samples, validate on 14000 samples\n",
      "Epoch 1/20\n",
      "42000/42000 [==============================] - 15s 360us/step - loss: 0.2873 - accuracy: 0.9110 - val_loss: 0.1297 - val_accuracy: 0.9586\n",
      "Epoch 2/20\n",
      "42000/42000 [==============================] - 12s 276us/step - loss: 0.1144 - accuracy: 0.9634 - val_loss: 0.0958 - val_accuracy: 0.9706\n",
      "Epoch 3/20\n",
      "42000/42000 [==============================] - 16s 377us/step - loss: 0.0807 - accuracy: 0.9753 - val_loss: 0.1037 - val_accuracy: 0.9711\n",
      "Epoch 4/20\n",
      "42000/42000 [==============================] - 14s 338us/step - loss: 0.0626 - accuracy: 0.9804 - val_loss: 0.0840 - val_accuracy: 0.9778\n",
      "Epoch 5/20\n",
      "42000/42000 [==============================] - 12s 294us/step - loss: 0.0505 - accuracy: 0.9843 - val_loss: 0.0884 - val_accuracy: 0.9773\n",
      "Epoch 6/20\n",
      "42000/42000 [==============================] - 13s 311us/step - loss: 0.0419 - accuracy: 0.9869 - val_loss: 0.0898 - val_accuracy: 0.9784\n",
      "Epoch 7/20\n",
      "42000/42000 [==============================] - 12s 282us/step - loss: 0.0345 - accuracy: 0.9890 - val_loss: 0.0857 - val_accuracy: 0.9808\n",
      "Epoch 8/20\n",
      "42000/42000 [==============================] - 10s 249us/step - loss: 0.0314 - accuracy: 0.9904 - val_loss: 0.0891 - val_accuracy: 0.9805\n",
      "Epoch 9/20\n",
      "42000/42000 [==============================] - 14s 335us/step - loss: 0.0281 - accuracy: 0.9915 - val_loss: 0.0984 - val_accuracy: 0.9809\n",
      "Epoch 10/20\n",
      "42000/42000 [==============================] - 12s 291us/step - loss: 0.0253 - accuracy: 0.9919 - val_loss: 0.1047 - val_accuracy: 0.9795\n",
      "Epoch 11/20\n",
      "42000/42000 [==============================] - 14s 341us/step - loss: 0.0240 - accuracy: 0.9927 - val_loss: 0.1111 - val_accuracy: 0.9809\n",
      "Epoch 12/20\n",
      "42000/42000 [==============================] - 13s 301us/step - loss: 0.0219 - accuracy: 0.9930 - val_loss: 0.1041 - val_accuracy: 0.9821\n",
      "Epoch 13/20\n",
      "42000/42000 [==============================] - 13s 299us/step - loss: 0.0188 - accuracy: 0.9944 - val_loss: 0.1108 - val_accuracy: 0.9818\n",
      "Epoch 14/20\n",
      "42000/42000 [==============================] - 16s 380us/step - loss: 0.0184 - accuracy: 0.9944 - val_loss: 0.1119 - val_accuracy: 0.9821\n",
      "Epoch 15/20\n",
      "42000/42000 [==============================] - 12s 282us/step - loss: 0.0180 - accuracy: 0.9944 - val_loss: 0.1250 - val_accuracy: 0.9815\n",
      "Epoch 16/20\n",
      "42000/42000 [==============================] - 11s 254us/step - loss: 0.0175 - accuracy: 0.9956 - val_loss: 0.1247 - val_accuracy: 0.9819\n",
      "Epoch 17/20\n",
      "42000/42000 [==============================] - 12s 296us/step - loss: 0.0146 - accuracy: 0.9955 - val_loss: 0.1213 - val_accuracy: 0.9829\n",
      "Epoch 18/20\n",
      "42000/42000 [==============================] - 13s 312us/step - loss: 0.0148 - accuracy: 0.9959 - val_loss: 0.1223 - val_accuracy: 0.9837\n",
      "Epoch 19/20\n",
      "42000/42000 [==============================] - 15s 351us/step - loss: 0.0153 - accuracy: 0.9955 - val_loss: 0.1310 - val_accuracy: 0.9821\n",
      "Epoch 20/20\n",
      "42000/42000 [==============================] - 16s 374us/step - loss: 0.0152 - accuracy: 0.9960 - val_loss: 0.1301 - val_accuracy: 0.9829\n",
      "Test loss: 0.19131088344330022\n",
      "Test accuracy 0.9762856960296631\n"
     ]
    }
   ],
   "source": [
    "\"\"\"\n",
    "Training Model\n",
    "\"\"\"\n",
    "\n",
    "model = Sequential()\n",
    "model.add(Dense(512, activation=\"relu\", input_shape=(784,)))\n",
    "model.add(Dropout(0.2))\n",
    "model.add(Dense(512, activation='relu'))\n",
    "model.add(Dropout(0.2))\n",
    "model.add(Dense(num_classes, activation=\"softmax\"))\n",
    "\n",
    "model.summary()\n",
    "\n",
    "model.compile(loss='categorical_crossentropy',\n",
    "              optimizer=RMSprop(),\n",
    "              metrics=['accuracy'])\n",
    "\n",
    "history = model.fit(x_train, y_train, \n",
    "                    batch_size=batch_size,\n",
    "                    epochs=epochs,\n",
    "                    verbose=1,\n",
    "                    validation_data=(x_validate, y_validate))\n",
    "\n",
    "score = model.evaluate(x_test, y_test, verbose=0)\n",
    "print('Test loss:', score[0])\n",
    "print('Test accuracy', score[1])"
   ]
  },
  {
   "cell_type": "code",
   "execution_count": 7,
   "metadata": {},
   "outputs": [
    {
     "name": "stdout",
     "output_type": "stream",
     "text": [
      "dict_keys(['val_loss', 'val_accuracy', 'loss', 'accuracy'])\n"
     ]
    },
    {
     "data": {
      "image/png": "[encoded data removed]",
      "text/plain": [
       "<Figure size 432x288 with 1 Axes>"
      ]
     },
     "metadata": {
      "needs_background": "light"
     },
     "output_type": "display_data"
    },
    {
     "data": {
      "image/png": "[encoded data removed]",
      "text/plain": [
       "<Figure size 432x288 with 1 Axes>"
      ]
     },
     "metadata": {
      "needs_background": "light"
     },
     "output_type": "display_data"
    }
   ],
   "source": [
    "\"\"\"\n",
    "ploting training data\n",
    "\"\"\"\n",
    "# get all keys of of history\n",
    "print(history.history.keys())\n",
    "\n",
    "\n",
    "#plot accuracy\n",
    "plt.plot(history.history['accuracy'])\n",
    "plt.plot(history.history['val_accuracy'])\n",
    "plt.title('Model accuracy')\n",
    "plt.ylabel('accuracy')\n",
    "plt.xlabel('epoch')\n",
    "plt.legend(['train', 'validation'], loc='upper left')\n",
    "plt.show()\n",
    "\n",
    "\n",
    "#plot loss\n",
    "plt.plot(history.history['loss'])\n",
    "plt.plot(history.history['val_loss'])\n",
    "plt.title('Model loss')\n",
    "plt.ylabel('loss')\n",
    "plt.xlabel('epoch')\n",
    "plt.legend(['train', 'validation'], loc='upper left')\n",
    "plt.show()"
   ]
  },
  {
   "cell_type": "code",
   "execution_count": null,
   "metadata": {},
   "outputs": [],
   "source": []
  }
 ],
 "metadata": {
  "kernelspec": {
   "display_name": "Python 3",
   "language": "python",
   "name": "python3"
  },
  "language_info": {
   "codemirror_mode": {
    "name": "ipython",
    "version": 3
   },
   "file_extension": ".py",
   "mimetype": "text/x-python",
   "name": "python",
   "nbconvert_exporter": "python",
   "pygments_lexer": "ipython3",
   "version": "3.7.5"
  }
 },
 "nbformat": 4,
 "nbformat_minor": 2
}
