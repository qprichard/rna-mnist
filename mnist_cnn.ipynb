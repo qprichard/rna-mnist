{
 "cells": [
  {
   "cell_type": "code",
   "execution_count": 1,
   "metadata": {
    "scrolled": true
   },
   "outputs": [
    {
     "name": "stderr",
     "output_type": "stream",
     "text": [
      "Using TensorFlow backend.\n"
     ]
    }
   ],
   "source": [
    "from __future__ import print_function\n",
    "import keras\n",
    "import numpy as np\n",
    "from keras.datasets import mnist\n",
    "from keras.models import Sequential\n",
    "from keras.layers import Dense, Dropout, Flatten\n",
    "from keras.layers import Conv2D, MaxPooling2D\n",
    "from keras import backend as K\n",
    "from matplotlib import pyplot as plt\n",
    "\n",
    "\n"
   ]
  },
  {
   "cell_type": "code",
   "execution_count": 2,
   "metadata": {},
   "outputs": [],
   "source": [
    "\"\"\"\n",
    "Variables and dataset\n",
    "\"\"\"\n",
    "\n",
    "batch_size = 128\n",
    "num_classes = 10\n",
    "epochs = 12\n",
    "\n",
    "img_rows, img_cols = 28, 28\n",
    "\n",
    "(x_A, y_A), (x_B, y_B) = mnist.load_data()\n",
    "(dataset_x, dataset_y) = (np.concatenate((x_A, x_B)), np.concatenate((y_A, y_B)))\n",
    "\n",
    "#homogenize types \n",
    "dataset_x = dataset_x.astype('float32')\n",
    "dataset_x /= 255\n",
    "\n",
    "#make output to categorical\n",
    "dataset_y = keras.utils.to_categorical(dataset_y, num_classes)\n",
    "\n",
    "# We separate the dataset in 60% 20% 20%\n",
    "(x_train, y_train) = (dataset_x[:42000], dataset_y[:42000])\n",
    "(x_test, y_test) = (dataset_x[42000:56000], dataset_y[42000:56000])\n",
    "(x_validate, y_validate) = (dataset_x[56000:70000], dataset_y[56000:72000])"
   ]
  },
  {
   "cell_type": "code",
   "execution_count": 3,
   "metadata": {},
   "outputs": [],
   "source": [
    "\"\"\"\n",
    "reshaping\n",
    "\"\"\"\n",
    "\n",
    "#reshaping\n",
    "if K.image_data_format() == \"channels_first\":\n",
    "    x_train = x_train.reshape(x_train.shape[0], 1, img_rows, img_cols)\n",
    "    x_test = x_test.reshape(x_test.shape[0], 1, img_rows, img_cols)\n",
    "    x_validate = x_validate.reshape(x_validate.shape[0], 1, img_rows, img_cols)\n",
    "    input_shape = (1, img_rows, img_cols)    \n",
    "else:\n",
    "    x_train = x_train.reshape(x_train.shape[0], img_rows, img_cols, 1)\n",
    "    x_test = x_test.reshape(x_test.shape[0], img_rows, img_cols, 1)\n",
    "    x_validate = x_validate.reshape(x_validate.shape[0], img_rows, img_cols, 1)\n",
    "    input_shape = (img_rows, img_cols, 1)\n"
   ]
  },
  {
   "cell_type": "code",
   "execution_count": 4,
   "metadata": {
    "scrolled": false
   },
   "outputs": [
    {
     "name": "stdout",
     "output_type": "stream",
     "text": [
      "Model: \"sequential_1\"\n",
      "_________________________________________________________________\n",
      "Layer (type)                 Output Shape              Param #   \n",
      "=================================================================\n",
      "conv2d_1 (Conv2D)            (None, 26, 26, 32)        320       \n",
      "_________________________________________________________________\n",
      "conv2d_2 (Conv2D)            (None, 24, 24, 64)        18496     \n",
      "_________________________________________________________________\n",
      "max_pooling2d_1 (MaxPooling2 (None, 12, 12, 64)        0         \n",
      "_________________________________________________________________\n",
      "dropout_1 (Dropout)          (None, 12, 12, 64)        0         \n",
      "_________________________________________________________________\n",
      "flatten_1 (Flatten)          (None, 9216)              0         \n",
      "_________________________________________________________________\n",
      "dense_1 (Dense)              (None, 128)               1179776   \n",
      "_________________________________________________________________\n",
      "dropout_2 (Dropout)          (None, 128)               0         \n",
      "_________________________________________________________________\n",
      "dense_2 (Dense)              (None, 10)                1290      \n",
      "=================================================================\n",
      "Total params: 1,199,882\n",
      "Trainable params: 1,199,882\n",
      "Non-trainable params: 0\n",
      "_________________________________________________________________\n"
     ]
    }
   ],
   "source": [
    "\"\"\"\n",
    "Training Model\n",
    "\"\"\"\n",
    "\n",
    "model = Sequential()\n",
    "model.add(Conv2D(32, \n",
    "                 kernel_size=(3,3),\n",
    "                 activation='relu',\n",
    "                 input_shape=input_shape))\n",
    "model.add(Conv2D(64,\n",
    "                 (3,3),\n",
    "                 activation='relu'))\n",
    "model.add(MaxPooling2D(pool_size=(2,2)))\n",
    "model.add(Dropout(0.25))\n",
    "model.add(Flatten())\n",
    "model.add(Dense(128, activation='relu'))\n",
    "model.add(Dropout(0.5))\n",
    "model.add(Dense(num_classes, activation='softmax'))\n",
    "\n",
    "model.summary()\n",
    "\n",
    "model.compile(loss=keras.losses.categorical_crossentropy,\n",
    "              optimizer=keras.optimizers.Adadelta(),\n",
    "              metrics=['accuracy'])\n",
    "\n"
   ]
  },
  {
   "cell_type": "code",
   "execution_count": 5,
   "metadata": {},
   "outputs": [
    {
     "name": "stdout",
     "output_type": "stream",
     "text": [
      "Train on 42000 samples, validate on 14000 samples\n",
      "Epoch 1/12\n",
      "42000/42000 [==============================] - 23s 549us/step - loss: 0.3429 - accuracy: 0.8933 - val_loss: 0.0711 - val_accuracy: 0.9784\n",
      "Epoch 2/12\n",
      "42000/42000 [==============================] - 17s 393us/step - loss: 0.1076 - accuracy: 0.9671 - val_loss: 0.0535 - val_accuracy: 0.9839\n",
      "Epoch 3/12\n",
      "42000/42000 [==============================] - 17s 405us/step - loss: 0.0790 - accuracy: 0.9766 - val_loss: 0.0396 - val_accuracy: 0.9882\n",
      "Epoch 4/12\n",
      "42000/42000 [==============================] - 16s 387us/step - loss: 0.0616 - accuracy: 0.9812 - val_loss: 0.0416 - val_accuracy: 0.9869\n",
      "Epoch 5/12\n",
      "42000/42000 [==============================] - 16s 383us/step - loss: 0.0513 - accuracy: 0.9853 - val_loss: 0.0362 - val_accuracy: 0.9889\n",
      "Epoch 6/12\n",
      "42000/42000 [==============================] - 16s 378us/step - loss: 0.0462 - accuracy: 0.9868 - val_loss: 0.0361 - val_accuracy: 0.9891\n",
      "Epoch 7/12\n",
      "42000/42000 [==============================] - 18s 421us/step - loss: 0.0420 - accuracy: 0.9875 - val_loss: 0.0332 - val_accuracy: 0.9894\n",
      "Epoch 8/12\n",
      "42000/42000 [==============================] - 17s 407us/step - loss: 0.0371 - accuracy: 0.9888 - val_loss: 0.0335 - val_accuracy: 0.9899\n",
      "Epoch 9/12\n",
      "42000/42000 [==============================] - 16s 385us/step - loss: 0.0343 - accuracy: 0.9895 - val_loss: 0.0326 - val_accuracy: 0.9904\n",
      "Epoch 10/12\n",
      "42000/42000 [==============================] - 15s 366us/step - loss: 0.0310 - accuracy: 0.9904 - val_loss: 0.0338 - val_accuracy: 0.9902\n",
      "Epoch 11/12\n",
      "42000/42000 [==============================] - 16s 383us/step - loss: 0.0274 - accuracy: 0.9912 - val_loss: 0.0341 - val_accuracy: 0.9906\n",
      "Epoch 12/12\n",
      "42000/42000 [==============================] - 16s 370us/step - loss: 0.0264 - accuracy: 0.9917 - val_loss: 0.0337 - val_accuracy: 0.9901\n",
      "test loss: 0.0406102621825547\n",
      "test accuracy 0.9895714521408081\n"
     ]
    }
   ],
   "source": [
    "\"\"\"\n",
    "fitting\n",
    "\"\"\"\n",
    "\n",
    "history = model.fit(x_train, y_train,\n",
    "                    batch_size=batch_size,\n",
    "                    epochs=epochs,\n",
    "                    verbose=1,\n",
    "                    validation_data=(x_validate, y_validate)\n",
    "                   )\n",
    "\n",
    "score = model.evaluate(x_test, y_test, verbose=0)\n",
    "print('test loss:', score[0])\n",
    "print('test accuracy', score[1])"
   ]
  },
  {
   "cell_type": "code",
   "execution_count": 6,
   "metadata": {},
   "outputs": [
    {
     "name": "stdout",
     "output_type": "stream",
     "text": [
      "dict_keys(['val_loss', 'val_accuracy', 'loss', 'accuracy'])\n"
     ]
    },
    {
     "data": {
      "image/png": "[encoded data removed]",
      "text/plain": [
       "<Figure size 432x288 with 1 Axes>"
      ]
     },
     "metadata": {
      "needs_background": "light"
     },
     "output_type": "display_data"
    },
    {
     "data": {
      "image/png": "[encoded data removed]",
      "text/plain": [
       "<Figure size 432x288 with 1 Axes>"
      ]
     },
     "metadata": {
      "needs_background": "light"
     },
     "output_type": "display_data"
    }
   ],
   "source": [
    "\"\"\"\n",
    "ploting training data\n",
    "\"\"\"\n",
    "# get all keys of of history\n",
    "print(history.history.keys())\n",
    "\n",
    "\n",
    "#plot accuracy\n",
    "plt.plot(history.history['accuracy'])\n",
    "plt.plot(history.history['val_accuracy'])\n",
    "plt.title('Model accuracy')\n",
    "plt.ylabel('accuracy')\n",
    "plt.xlabel('epoch')\n",
    "plt.legend(['train', 'validation'], loc='upper left')\n",
    "plt.show()\n",
    "\n",
    "\n",
    "#plot loss\n",
    "plt.plot(history.history['loss'])\n",
    "plt.plot(history.history['val_loss'])\n",
    "plt.title('Model loss')\n",
    "plt.ylabel('loss')\n",
    "plt.xlabel('epoch')\n",
    "plt.legend(['train', 'validation'], loc='upper left')\n",
    "plt.show()"
   ]
  },
  {
   "cell_type": "code",
   "execution_count": null,
   "metadata": {},
   "outputs": [],
   "source": []
  },
  {
   "cell_type": "code",
   "execution_count": null,
   "metadata": {},
   "outputs": [],
   "source": []
  }
 ],
 "metadata": {
  "kernelspec": {
   "display_name": "Python 3",
   "language": "python",
   "name": "python3"
  },
  "language_info": {
   "codemirror_mode": {
    "name": "ipython",
    "version": 3
   },
   "file_extension": ".py",
   "mimetype": "text/x-python",
   "name": "python",
   "nbconvert_exporter": "python",
   "pygments_lexer": "ipython3",
   "version": "3.7.5"
  }
 },
 "nbformat": 4,
 "nbformat_minor": 2
}
